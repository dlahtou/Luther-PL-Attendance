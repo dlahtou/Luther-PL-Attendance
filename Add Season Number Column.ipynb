{
 "cells": [
  {
   "cell_type": "markdown",
   "metadata": {},
   "source": [
    "This notebook was used to create and populate a 'season_num' column"
   ]
  },
  {
   "cell_type": "code",
   "execution_count": 1,
   "metadata": {},
   "outputs": [],
   "source": [
    "import pandas as pd"
   ]
  },
  {
   "cell_type": "code",
   "execution_count": 8,
   "metadata": {},
   "outputs": [],
   "source": [
    "with open('PLmatches.csv', 'r') as open_file:\n",
    "    df = pd.read_csv(open_file, index_col=0)"
   ]
  },
  {
   "cell_type": "code",
   "execution_count": 9,
   "metadata": {},
   "outputs": [
    {
     "name": "stdout",
     "output_type": "stream",
     "text": [
      "<class 'pandas.core.frame.DataFrame'>\n",
      "Int64Index: 4559 entries, 5567 to 22721\n",
      "Data columns (total 43 columns):\n",
      "hometeam_name            4559 non-null object\n",
      "awayteam_name            4559 non-null object\n",
      "home_goals               4559 non-null int64\n",
      "away_goals               4559 non-null int64\n",
      "match_date               4559 non-null object\n",
      "match_timestamp          4559 non-null int64\n",
      "match_referee            4559 non-null object\n",
      "match_stadium            4559 non-null object\n",
      "match_attendance         4013 non-null float64\n",
      "home_possession          4559 non-null float64\n",
      "away_possession          4559 non-null float64\n",
      "home_shotsontarget       4559 non-null int64\n",
      "away_shotsontarget       4559 non-null int64\n",
      "home_shots               4559 non-null int64\n",
      "away_shots               4559 non-null int64\n",
      "home_touches             4559 non-null int64\n",
      "away_touches             4559 non-null int64\n",
      "home_passes              4559 non-null int64\n",
      "away_passes              4559 non-null int64\n",
      "home_tackles             4559 non-null int64\n",
      "away_tackles             4559 non-null int64\n",
      "home_clearances          4559 non-null int64\n",
      "away_clearances          4559 non-null int64\n",
      "home_corners             4559 non-null int64\n",
      "away_corners             4559 non-null int64\n",
      "home_offsides            4559 non-null int64\n",
      "away_offsides            4559 non-null int64\n",
      "home_yellowcards         4559 non-null int64\n",
      "away_yellowcards         4559 non-null int64\n",
      "home_redcards            4559 non-null int64\n",
      "away_redcards            4559 non-null int64\n",
      "home_fouls               4559 non-null int64\n",
      "away_fouls               4559 non-null int64\n",
      "home_leaguerank          4559 non-null int64\n",
      "away_leaguerank          4559 non-null int64\n",
      "home_matchesplayed       4559 non-null int64\n",
      "away_matchesplayed       4559 non-null int64\n",
      "home_goaldifferential    4559 non-null int64\n",
      "away_goaldifferential    4559 non-null int64\n",
      "home_leaguepts           4559 non-null int64\n",
      "away_leaguepts           4559 non-null int64\n",
      "matchweek                4559 non-null int64\n",
      "stadium_capacity         4559 non-null int64\n",
      "dtypes: float64(3), int64(35), object(5)\n",
      "memory usage: 1.5+ MB\n"
     ]
    }
   ],
   "source": [
    "df.info()"
   ]
  },
  {
   "cell_type": "code",
   "execution_count": 12,
   "metadata": {},
   "outputs": [],
   "source": [
    "df['season_num'] = 0"
   ]
  },
  {
   "cell_type": "code",
   "execution_count": 64,
   "metadata": {},
   "outputs": [],
   "source": [
    "df['season_num'] = df.apply(lambda row: 12 if (row['match_timestamp'] < 1533081600*1000)&(row['season_num'] == 0) else row['season_num'], axis=1)"
   ]
  },
  {
   "cell_type": "markdown",
   "metadata": {},
   "source": [
    "I edited the above row 11 times for each season and the appropriate timestamp"
   ]
  },
  {
   "cell_type": "code",
   "execution_count": 18,
   "metadata": {},
   "outputs": [
    {
     "data": {
      "text/plain": [
       "1155987900000"
      ]
     },
     "execution_count": 18,
     "metadata": {},
     "output_type": "execute_result"
    }
   ],
   "source": [
    "df['match_timestamp'].min()"
   ]
  },
  {
   "cell_type": "code",
   "execution_count": 67,
   "metadata": {},
   "outputs": [
    {
     "name": "stdout",
     "output_type": "stream",
     "text": [
      "380\n",
      "380\n",
      "379\n",
      "380\n",
      "380\n",
      "381\n",
      "380\n",
      "380\n",
      "380\n",
      "380\n",
      "380\n",
      "379\n"
     ]
    }
   ],
   "source": [
    "for i in range(1,13):\n",
    "    print(len(df[df['season_num'] == i]))"
   ]
  },
  {
   "cell_type": "code",
   "execution_count": 68,
   "metadata": {},
   "outputs": [],
   "source": [
    "with open('PLmatches.csv', 'w') as open_file:\n",
    "    df.to_csv(open_file)"
   ]
  },
  {
   "cell_type": "code",
   "execution_count": null,
   "metadata": {},
   "outputs": [],
   "source": []
  }
 ],
 "metadata": {
  "kernelspec": {
   "display_name": "Python 3",
   "language": "python",
   "name": "python3"
  },
  "language_info": {
   "codemirror_mode": {
    "name": "ipython",
    "version": 3
   },
   "file_extension": ".py",
   "mimetype": "text/x-python",
   "name": "python",
   "nbconvert_exporter": "python",
   "pygments_lexer": "ipython3",
   "version": "3.6.5"
  }
 },
 "nbformat": 4,
 "nbformat_minor": 2
}
