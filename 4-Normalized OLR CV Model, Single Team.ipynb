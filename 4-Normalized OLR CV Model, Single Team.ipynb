{
 "cells": [
  {
   "cell_type": "code",
   "execution_count": 53,
   "metadata": {},
   "outputs": [],
   "source": [
    "# Necessary imports\n",
    "import pandas as pd\n",
    "import numpy as np\n",
    "import seaborn as sns\n",
    "import matplotlib.pyplot as plt\n",
    "from sklearn.linear_model import LinearRegression\n",
    "from sklearn.model_selection import train_test_split\n",
    "from sklearn.linear_model import RidgeCV\n",
    "from sklearn.pipeline import make_pipeline\n",
    "from sklearn.preprocessing import PolynomialFeatures\n",
    "from sklearn.cross_validation import KFold\n",
    "from sklearn.preprocessing import StandardScaler\n",
    "from sklearn.preprocessing import OneHotEncoder\n",
    "from sklearn.cross_validation import cross_val_score\n",
    "\n",
    "import statsmodels.api as sm\n",
    "import statsmodels.formula.api as smf\n",
    "import patsy\n",
    "\n",
    "from sklearn import linear_model \n",
    "\n",
    "%matplotlib inline"
   ]
  },
  {
   "cell_type": "code",
   "execution_count": 54,
   "metadata": {},
   "outputs": [],
   "source": [
    "with open('PLmatches.csv', 'r') as open_file:\n",
    "    df = pd.read_csv(open_file, index_col=0)"
   ]
  },
  {
   "cell_type": "code",
   "execution_count": 55,
   "metadata": {},
   "outputs": [],
   "source": [
    "df.dropna(subset=['mean_attendance_delta', 'home_prior_leaguerank', 'away_prior_leaguerank', 'home_last3_goals', 'away_last3_goals', 'home_last3_poss', 'away_last3_poss'], inplace=True)"
   ]
  },
  {
   "cell_type": "code",
   "execution_count": 56,
   "metadata": {},
   "outputs": [],
   "source": [
    "df_manutd = df[df['match_stadium'] == 'Stadium of Light, Sunderland']"
   ]
  },
  {
   "cell_type": "code",
   "execution_count": 57,
   "metadata": {},
   "outputs": [],
   "source": [
    "y, X = patsy.dmatrices('mean_attendance_delta_std ~ home_prior_leaguerank + away_prior_leaguerank + home_last3_goals + away_last3_goals + home_last3_poss + away_last3_poss', data=df_manutd, return_type=\"dataframe\")"
   ]
  },
  {
   "cell_type": "code",
   "execution_count": 63,
   "metadata": {},
   "outputs": [
    {
     "data": {
      "text/plain": [
       "0.16020184316589947"
      ]
     },
     "execution_count": 63,
     "metadata": {},
     "output_type": "execute_result"
    }
   ],
   "source": [
    "est = make_pipeline(StandardScaler(), LinearRegression())\n",
    "#lsm = smf.ols('mean_attendance_delta_std ~ match_stadium*(home_prior_leaguerank + away_prior_leaguerank + matchweek)',\n",
    "#              data = df)\n",
    "#fit3 = est.fit(X, y)\n",
    "\n",
    "#est.score(X, y)\n",
    "np.mean(-cross_val_score(est, X, y, cv=11, scoring='r2'))"
   ]
  },
  {
   "cell_type": "code",
   "execution_count": 28,
   "metadata": {},
   "outputs": [
    {
     "name": "stdout",
     "output_type": "stream",
     "text": [
      "<class 'pandas.core.frame.DataFrame'>\n",
      "Int64Index: 3645 entries, 5577 to 22721\n",
      "Data columns (total 51 columns):\n",
      "hometeam_name                3645 non-null object\n",
      "awayteam_name                3645 non-null object\n",
      "home_goals                   3645 non-null int64\n",
      "away_goals                   3645 non-null int64\n",
      "match_date                   3645 non-null object\n",
      "match_timestamp              3645 non-null int64\n",
      "match_referee                3645 non-null object\n",
      "match_stadium                3645 non-null object\n",
      "match_attendance             3645 non-null float64\n",
      "home_possession              3645 non-null float64\n",
      "away_possession              3645 non-null float64\n",
      "home_shotsontarget           3645 non-null int64\n",
      "away_shotsontarget           3645 non-null int64\n",
      "home_shots                   3645 non-null int64\n",
      "away_shots                   3645 non-null int64\n",
      "home_touches                 3645 non-null int64\n",
      "away_touches                 3645 non-null int64\n",
      "home_passes                  3645 non-null int64\n",
      "away_passes                  3645 non-null int64\n",
      "home_tackles                 3645 non-null int64\n",
      "away_tackles                 3645 non-null int64\n",
      "home_clearances              3645 non-null int64\n",
      "away_clearances              3645 non-null int64\n",
      "home_corners                 3645 non-null int64\n",
      "away_corners                 3645 non-null int64\n",
      "home_offsides                3645 non-null int64\n",
      "away_offsides                3645 non-null int64\n",
      "home_yellowcards             3645 non-null int64\n",
      "away_yellowcards             3645 non-null int64\n",
      "home_redcards                3645 non-null int64\n",
      "away_redcards                3645 non-null int64\n",
      "home_fouls                   3645 non-null int64\n",
      "away_fouls                   3645 non-null int64\n",
      "home_leaguerank              3645 non-null int64\n",
      "away_leaguerank              3645 non-null int64\n",
      "home_matchesplayed           3645 non-null int64\n",
      "away_matchesplayed           3645 non-null int64\n",
      "home_goaldifferential        3645 non-null int64\n",
      "away_goaldifferential        3645 non-null int64\n",
      "home_leaguepts               3645 non-null int64\n",
      "away_leaguepts               3645 non-null int64\n",
      "matchweek                    3645 non-null int64\n",
      "stadium_capacity             3645 non-null int64\n",
      "season_num                   3645 non-null int64\n",
      "home_prior_leaguerank        3645 non-null float64\n",
      "away_prior_leaguerank        3645 non-null float64\n",
      "attendance_delta             3471 non-null float64\n",
      "mean_attendance_delta_std    3471 non-null float64\n",
      "mean_attendance_delta        3645 non-null float64\n",
      "home_prior_goals             3645 non-null float64\n",
      "away_prior_goals             3645 non-null float64\n",
      "dtypes: float64(10), int64(36), object(5)\n",
      "memory usage: 1.4+ MB\n"
     ]
    }
   ],
   "source": [
    "df.info()"
   ]
  },
  {
   "cell_type": "code",
   "execution_count": 94,
   "metadata": {},
   "outputs": [
    {
     "data": {
      "text/plain": [
       "set()"
      ]
     },
     "execution_count": 94,
     "metadata": {},
     "output_type": "execute_result"
    }
   ],
   "source": []
  },
  {
   "cell_type": "code",
   "execution_count": 87,
   "metadata": {},
   "outputs": [
    {
     "data": {
      "text/plain": [
       "5577      -515.736842\n",
       "5578      -547.947368\n",
       "5579      1091.052632\n",
       "5580       753.473684\n",
       "5581      -782.631579\n",
       "5582     -3682.210526\n",
       "5583     -2773.684211\n",
       "5584      1540.210526\n",
       "5585     -2521.631579\n",
       "5586     -3929.210526\n",
       "5587       461.263158\n",
       "5588       711.315789\n",
       "5589      -262.736842\n",
       "5590       561.052632\n",
       "5591     -3603.052632\n",
       "5592     -1096.947368\n",
       "5593     -1863.526316\n",
       "5594     -2894.789474\n",
       "5595       -38.631579\n",
       "5596     -2446.315789\n",
       "5597      -356.947368\n",
       "5598      3265.210526\n",
       "5599      -368.052632\n",
       "5600       424.000000\n",
       "5601      -303.894737\n",
       "5602      -804.421053\n",
       "5603      -375.052632\n",
       "5604       160.315789\n",
       "5605     -2422.315789\n",
       "5606       -49.631579\n",
       "             ...     \n",
       "22692    -1229.421053\n",
       "22693      687.421053\n",
       "22694       89.315789\n",
       "22695      206.000000\n",
       "22696       59.315789\n",
       "22697      291.210526\n",
       "22698      984.105263\n",
       "22699      277.368421\n",
       "22700   -15377.000000\n",
       "22701       19.368421\n",
       "22702      217.210526\n",
       "22703      179.263158\n",
       "22704      208.315789\n",
       "22705       32.263158\n",
       "22706     -572.000000\n",
       "22707      377.052632\n",
       "22708      287.722222\n",
       "22709      407.157895\n",
       "22710      144.052632\n",
       "22711     -834.894737\n",
       "22712       31.578947\n",
       "22713      294.421053\n",
       "22714       90.315789\n",
       "22715    -2297.000000\n",
       "22716       73.315789\n",
       "22717      302.210526\n",
       "22718     1088.105263\n",
       "22719       50.368421\n",
       "22720     9789.000000\n",
       "22721       41.368421\n",
       "Name: mean_attendance_delta, Length: 3568, dtype: float64"
      ]
     },
     "execution_count": 87,
     "metadata": {},
     "output_type": "execute_result"
    }
   ],
   "source": [
    "Y"
   ]
  },
  {
   "cell_type": "code",
   "execution_count": null,
   "metadata": {},
   "outputs": [],
   "source": []
  }
 ],
 "metadata": {
  "kernelspec": {
   "display_name": "Python 3",
   "language": "python",
   "name": "python3"
  },
  "language_info": {
   "codemirror_mode": {
    "name": "ipython",
    "version": 3
   },
   "file_extension": ".py",
   "mimetype": "text/x-python",
   "name": "python",
   "nbconvert_exporter": "python",
   "pygments_lexer": "ipython3",
   "version": "3.6.5"
  }
 },
 "nbformat": 4,
 "nbformat_minor": 2
}
