{
 "cells": [
  {
   "cell_type": "code",
   "execution_count": 43,
   "metadata": {},
   "outputs": [],
   "source": [
    "import pandas as pd\n",
    "import numpy as np\n",
    "from selenium import webdriver\n",
    "from selenium.webdriver.common.keys import Keys\n",
    "from selenium.webdriver.firefox.options import Options\n",
    "from selenium.webdriver.common.by import By\n",
    "from selenium.webdriver.support.ui import WebDriverWait\n",
    "from selenium.webdriver.support import expected_conditions as EC\n",
    "from selenium.common.exceptions import NoSuchElementException\n",
    "import pickle as pkl\n",
    "from pprint import pprint\n",
    "import time\n",
    "\n",
    "import matplotlib.pyplot as plt"
   ]
  },
  {
   "cell_type": "code",
   "execution_count": 5,
   "metadata": {},
   "outputs": [],
   "source": [
    "with open('stadium_info.pkl', 'rb') as open_file:\n",
    "    stadium_info_dict = pkl.load(open_file)"
   ]
  },
  {
   "cell_type": "code",
   "execution_count": 6,
   "metadata": {},
   "outputs": [
    {
     "data": {
      "text/plain": [
       "{'Amex Stadium, Falmer': {'coords': 'Coordinates: 50°51′42.56″N 0°4′59.80″W',\n",
       "  'capacity': 30750},\n",
       " 'Anfield, Liverpool': {'coords': 'Coordinates 53°25′50.98″N 2°57′39.05″W\\nCoordinates: 53°25′50.98″N 2°57′39.05″W',\n",
       "  'capacity': 54074},\n",
       " 'Bloomfield Road, Blackpool': {'coords': 'Coordinates 53°48′17″N 3°2′53″W',\n",
       "  'capacity': 17338},\n",
       " 'Boleyn Ground, London': {'coords': None, 'capacity': 35016},\n",
       " 'Bramall Lane, Sheffield': {'coords': 'Coordinates 53°22′13″N 1°28′15″W\\nCoordinates: 53°22′13″N 1°28′15″W',\n",
       "  'capacity': 32702},\n",
       " 'Britannia Stadium, Stoke': {'coords': None, 'capacity': 27740},\n",
       " 'Cardiff City Stadium, Cardiff': {'coords': 'Coordinates 51°28′22″N 3°12′11″W\\nCoordinates: 51°28′22″N 3°12′11″W',\n",
       "  'capacity': 33280},\n",
       " 'Carrow Road, Norwich': {'coords': 'Coordinates 52°37′19.66″N 1°18′31.15″E\\nCoordinates: 52°37′19.66″N 1°18′31.15″E',\n",
       "  'capacity': 27244},\n",
       " 'Craven Cottage, London': {'coords': 'Coordinates 51°28′30″N 0°13′18″W\\nCoordinates: 51°28′30″N 0°13′18″W',\n",
       "  'capacity': 25700},\n",
       " 'DW Stadium, Wigan': {'coords': 'Coordinates 53°32′52″N 2°39′14″W\\nCoordinates: 53°32′52″N 2°39′14″W',\n",
       "  'capacity': 25138},\n",
       " 'Emirates Stadium, London': {'coords': 'Coordinates 51°33′18″N 0°6′31″W\\nCoordinates: 51°33′18″N 0°6′31″W',\n",
       "  'capacity': 59867},\n",
       " 'Etihad Stadium, Manchester': {'coords': 'Coordinates 53°28′59″N 2°12′1″W\\nCoordinates: 53°28′59″N 2°12′1″W',\n",
       "  'capacity': 55097},\n",
       " 'Ewood Park, Blackburn': {'coords': 'Coordinates 53°43′43″N 2°29′21″W\\nCoordinates: 53°43′43″N 2°29′21″W',\n",
       "  'capacity': 31367},\n",
       " 'Fratton Park, Portsmouth': {'coords': 'Coordinates 50°47′47″N 1°3′50″W\\nCoordinates: 50°47′47″N 1°3′50″W',\n",
       "  'capacity': 19699},\n",
       " 'Goldsands Stadium, Bournemouth': {'coords': 'Coordinates 50°44′07″N 1°50′18″W\\nCoordinates: 50°44′07″N 1°50′18″W',\n",
       "  'capacity': 11360},\n",
       " 'Goodison Park, Liverpool': {'coords': 'Coordinates 53°26′20″N 2°57′59″W\\nCoordinates: 53°26′20″N 2°57′59″W',\n",
       "  'capacity': 39572},\n",
       " \"John Smith's Stadium, Huddersfield\": {'coords': 'Coordinates 53°39′15″N 1°46′6″W\\nCoordinates: 53°39′15″N 1°46′6″W',\n",
       "  'capacity': 24121},\n",
       " 'KCOM Stadium, Hull': {'coords': 'Coordinates 53°44′46″N 0°22′4″W\\nCoordinates: 53°44′46″N 0°22′4″W',\n",
       "  'capacity': 25400},\n",
       " 'King Power Stadium, Leicester': {'coords': 'Coordinates 52°37′13″N 1°8′32″W\\nCoordinates: 52°37′13″N 1°8′32″W',\n",
       "  'capacity': 32312},\n",
       " 'Liberty Stadium, Swansea': {'coords': 'Coordinates 51.6422°N 3.9351°W\\nCoordinates: 51.6422°N 3.9351°W',\n",
       "  'capacity': 21088},\n",
       " 'Loftus Road, London': {'coords': 'Coordinates 51°30′33″N 0°13′56″W\\nCoordinates: 51°30′33″N 0°13′56″W',\n",
       "  'capacity': 18439},\n",
       " 'London Stadium, London': {'coords': 'Coordinates 51°32′19″N 0°00′59″W\\nCoordinates: 51°32′19″N 0°00′59″W',\n",
       "  'capacity': 57000},\n",
       " 'Macron Stadium, Bolton': {'coords': 'Coordinates 53°34′50″N 2°32′8″W\\nCoordinates: 53°34′50″N 2°32′8″W',\n",
       "  'capacity': 28723},\n",
       " 'Madejski Stadium, Reading': {'coords': 'Coordinates 51°25′20″N 0°58′58″W\\nCoordinates: 51°25′20″N 0°58′58″W',\n",
       "  'capacity': 24161},\n",
       " 'Molineux Stadium, Wolverhampton': {'coords': 'Coordinates 52°35′25″N 2°07′49″W\\nCoordinates: 52°35′25″N 2°07′49″W',\n",
       "  'capacity': 31700},\n",
       " 'Old Trafford, Manchester': {'coords': 'Coordinates 53°27′47″N 2°17′29″W\\nCoordinates: 53°27′47″N 2°17′29″W',\n",
       "  'capacity': 74994},\n",
       " 'Pride Park Stadium, Derby': {'coords': 'Coordinates 52°54′54″N 1°26′50″W\\nCoordinates: 52°54′54″N 1°26′50″W',\n",
       "  'capacity': 33597},\n",
       " 'Riverside Stadium, Middlesbrough': {'coords': 'Coordinates 54°34′42″N 1°13′1″W\\nCoordinates: 54°34′42″N 1°13′1″W',\n",
       "  'capacity': 34000},\n",
       " 'Selhurst Park, London': {'coords': 'Coordinates 51°23′54″N 0°5′8″W\\nCoordinates: 51°23′54″N 0°5′8″W',\n",
       "  'capacity': 26074},\n",
       " 'Sports Direct Arena, Newcastle': {'coords': 'Coordinates 54°58′32″N 1°37′18″W\\nCoordinates: 54°58′32″N 1°37′18″W',\n",
       "  'capacity': 52354},\n",
       " 'St Andrews, Birmingham': {'coords': 'Coordinates 52°28′32.53″N 1°52′05.48″W\\nCoordinates: 52°28′32.53″N 1°52′05.48″W',\n",
       "  'capacity': 29409},\n",
       " \"St James' Park, Newcastle\": {'coords': 'Coordinates 54°58′32″N 1°37′18″W\\nCoordinates: 54°58′32″N 1°37′18″W',\n",
       "  'capacity': 52354},\n",
       " \"St. James' Park, Newcastle\": {'coords': 'Coordinates 54°58′32″N 1°37′18″W\\nCoordinates: 54°58′32″N 1°37′18″W',\n",
       "  'capacity': 52354},\n",
       " \"St. Mary's Stadium, Southampton\": {'coords': 'Coordinates 50°54′21″N 1°23′28″W\\nCoordinates: 50°54′21″N 1°23′28″W',\n",
       "  'capacity': 32505},\n",
       " 'Stadium of Light, Sunderland': {'coords': 'Coordinates 54°54′52″N 1°23′18″W\\nCoordinates: 54°54′52″N 1°23′18″W',\n",
       "  'capacity': 48707},\n",
       " 'Stamford Bridge, London': {'coords': 'Coordinates 51°28′54″N 0°11′28″W\\nCoordinates: 51°28′54″N 0°11′28″W',\n",
       "  'capacity': 41631},\n",
       " 'The Hawthorns, West Bromwich': {'coords': 'Coordinates 52°30′33″N 1°57′50″W\\nCoordinates: 52°30′33″N 1°57′50″W',\n",
       "  'capacity': 26688},\n",
       " 'The Valley, London': {'coords': 'Coordinates 51°29′11″N 0°2′11″E\\nCoordinates: 51°29′11″N 0°2′11″E',\n",
       "  'capacity': 27111},\n",
       " 'Turf Moor, Burnley': {'coords': 'Coordinates 53°47′21″N 2°13′49″W\\nCoordinates: 53°47′21″N 2°13′49″W',\n",
       "  'capacity': 21401},\n",
       " 'Vicarage Road, Watford': {'coords': 'Coordinates 51°38′59.41″N 0°24′5.35″W\\nCoordinates: 51°38′59.41″N 0°24′5.35″W',\n",
       "  'capacity': 21577},\n",
       " 'Villa Park, Birmingham': {'coords': 'Coordinates 52°30′33″N 1°53′5″W\\nCoordinates: 52°30′33″N 1°53′5″W',\n",
       "  'capacity': 42682},\n",
       " 'Vitality Stadium, Bournemouth': {'coords': 'Coordinates 50°44′07″N 1°50′18″W\\nCoordinates: 50°44′07″N 1°50′18″W',\n",
       "  'capacity': 11360},\n",
       " 'Wembley Stadium, London': {'coords': 'Coordinates 51°33′21″N 0°16′47″W\\nCoordinates: 51°33′21″N 0°16′47″W',\n",
       "  'capacity': 90000},\n",
       " 'White Hart Lane, London': {'coords': 'Coordinates 51°36′12″N 0°03′57″W\\nCoordinates: 51°36′12″N 0°03′57″W',\n",
       "  'capacity': 36284},\n",
       " 'bet365 Stadium, Stoke': {'coords': 'Coordinates 52°59′18″N 2°10′32″W\\nCoordinates: 52°59′18″N 2°10′32″W',\n",
       "  'capacity': 30089}}"
      ]
     },
     "execution_count": 6,
     "metadata": {},
     "output_type": "execute_result"
    }
   ],
   "source": [
    "stadium_info_dict"
   ]
  },
  {
   "cell_type": "code",
   "execution_count": 39,
   "metadata": {},
   "outputs": [],
   "source": [
    "with open('PLmatches.csv', 'r') as open_file:\n",
    "    df = pd.read_csv(open_file, index_col=0)"
   ]
  },
  {
   "cell_type": "code",
   "execution_count": 17,
   "metadata": {},
   "outputs": [],
   "source": [
    "formatted_matchweek = df['matchweek'].apply(lambda y: y[10:])"
   ]
  },
  {
   "cell_type": "code",
   "execution_count": 22,
   "metadata": {},
   "outputs": [],
   "source": [
    "df['matchweek'] = formatted_matchweek"
   ]
  },
  {
   "cell_type": "code",
   "execution_count": 25,
   "metadata": {},
   "outputs": [],
   "source": [
    "df['matchweek'] = df['matchweek'].astype(int)"
   ]
  },
  {
   "cell_type": "code",
   "execution_count": 38,
   "metadata": {},
   "outputs": [],
   "source": [
    "with open('PLmatches.csv', 'w') as open_file:\n",
    "    df.to_csv(open_file)"
   ]
  },
  {
   "cell_type": "code",
   "execution_count": 31,
   "metadata": {},
   "outputs": [],
   "source": [
    "stadium_series = df['match_stadium']"
   ]
  },
  {
   "cell_type": "code",
   "execution_count": 33,
   "metadata": {},
   "outputs": [],
   "source": [
    "stadium_series = stadium_series.apply(lambda stadium: stadium_info_dict[stadium]['capacity'])"
   ]
  },
  {
   "cell_type": "code",
   "execution_count": 36,
   "metadata": {},
   "outputs": [],
   "source": [
    "df['stadium_capacity'] = stadium_series"
   ]
  },
  {
   "cell_type": "code",
   "execution_count": 40,
   "metadata": {},
   "outputs": [
    {
     "name": "stdout",
     "output_type": "stream",
     "text": [
      "<class 'pandas.core.frame.DataFrame'>\n",
      "Int64Index: 4559 entries, 5567 to 22721\n",
      "Data columns (total 43 columns):\n",
      "hometeam_name            4559 non-null object\n",
      "awayteam_name            4559 non-null object\n",
      "home_goals               4559 non-null int64\n",
      "away_goals               4559 non-null int64\n",
      "match_date               4559 non-null object\n",
      "match_timestamp          4559 non-null int64\n",
      "match_referee            4559 non-null object\n",
      "match_stadium            4559 non-null object\n",
      "match_attendance         4013 non-null float64\n",
      "home_possession          4559 non-null float64\n",
      "away_possession          4559 non-null float64\n",
      "home_shotsontarget       4559 non-null int64\n",
      "away_shotsontarget       4559 non-null int64\n",
      "home_shots               4559 non-null int64\n",
      "away_shots               4559 non-null int64\n",
      "home_touches             4559 non-null int64\n",
      "away_touches             4559 non-null int64\n",
      "home_passes              4559 non-null int64\n",
      "away_passes              4559 non-null int64\n",
      "home_tackles             4559 non-null int64\n",
      "away_tackles             4559 non-null int64\n",
      "home_clearances          4559 non-null int64\n",
      "away_clearances          4559 non-null int64\n",
      "home_corners             4559 non-null int64\n",
      "away_corners             4559 non-null int64\n",
      "home_offsides            4559 non-null int64\n",
      "away_offsides            4559 non-null int64\n",
      "home_yellowcards         4559 non-null int64\n",
      "away_yellowcards         4559 non-null int64\n",
      "home_redcards            4559 non-null int64\n",
      "away_redcards            4559 non-null int64\n",
      "home_fouls               4559 non-null int64\n",
      "away_fouls               4559 non-null int64\n",
      "home_leaguerank          4559 non-null int64\n",
      "away_leaguerank          4559 non-null int64\n",
      "home_matchesplayed       4559 non-null int64\n",
      "away_matchesplayed       4559 non-null int64\n",
      "home_goaldifferential    4559 non-null int64\n",
      "away_goaldifferential    4559 non-null int64\n",
      "home_leaguepts           4559 non-null int64\n",
      "away_leaguepts           4559 non-null int64\n",
      "matchweek                4559 non-null int64\n",
      "stadium_capacity         4559 non-null int64\n",
      "dtypes: float64(3), int64(35), object(5)\n",
      "memory usage: 1.5+ MB\n"
     ]
    }
   ],
   "source": [
    "df.info()"
   ]
  },
  {
   "cell_type": "code",
   "execution_count": 41,
   "metadata": {},
   "outputs": [],
   "source": [
    "df_Sund = df[df['hometeam_name'] == 'Sunderland']"
   ]
  },
  {
   "cell_type": "code",
   "execution_count": 56,
   "metadata": {},
   "outputs": [
    {
     "data": {
      "text/plain": [
       "<matplotlib.legend.Legend at 0x7f548d29a908>"
      ]
     },
     "execution_count": 56,
     "metadata": {},
     "output_type": "execute_result"
    },
    {
     "data": {
      "image/png": "[encoded data removed]",
      "text/plain": [
       "<Figure size 432x288 with 1 Axes>"
      ]
     },
     "metadata": {},
     "output_type": "display_data"
    }
   ],
   "source": [
    "plt.scatter(df_Sund['match_timestamp'], df_Sund['stadium_capacity'] - df_Sund['match_attendance'], label = 'empty seats')\n",
    "plt.scatter(df_Sund['match_timestamp'], 1000*df_Sund['home_leaguerank'], label='league rank')\n",
    "plt.legend()"
   ]
  },
  {
   "cell_type": "code",
   "execution_count": 51,
   "metadata": {},
   "outputs": [
    {
     "data": {
      "text/plain": [
       "array(['Stadium of Light, Sunderland'], dtype=object)"
      ]
     },
     "execution_count": 51,
     "metadata": {},
     "output_type": "execute_result"
    }
   ],
   "source": [
    "df_Sund['match_stadium'].unique()"
   ]
  },
  {
   "cell_type": "code",
   "execution_count": 52,
   "metadata": {},
   "outputs": [
    {
     "data": {
      "text/plain": [
       "<matplotlib.collections.PathCollection at 0x7f548d42cf28>"
      ]
     },
     "execution_count": 52,
     "metadata": {},
     "output_type": "execute_result"
    },
    {
     "data": {
      "image/png": "[encoded data removed]",
      "text/plain": [
       "<Figure size 432x288 with 1 Axes>"
      ]
     },
     "metadata": {},
     "output_type": "display_data"
    }
   ],
   "source": [
    "plt.scatter(df_Sund['match_timestamp'], df_Sund['home_leaguerank']*(df_Sund['stadium_capacity'] - df_Sund['match_attendance']))"
   ]
  },
  {
   "cell_type": "code",
   "execution_count": null,
   "metadata": {},
   "outputs": [],
   "source": []
  }
 ],
 "metadata": {
  "kernelspec": {
   "display_name": "Python 3",
   "language": "python",
   "name": "python3"
  },
  "language_info": {
   "codemirror_mode": {
    "name": "ipython",
    "version": 3
   },
   "file_extension": ".py",
   "mimetype": "text/x-python",
   "name": "python",
   "nbconvert_exporter": "python",
   "pygments_lexer": "ipython3",
   "version": "3.6.5"
  }
 },
 "nbformat": 4,
 "nbformat_minor": 2
}
