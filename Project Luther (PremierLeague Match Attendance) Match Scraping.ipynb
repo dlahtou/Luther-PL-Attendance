{
 "cells": [
  {
   "cell_type": "code",
   "execution_count": 215,
   "metadata": {},
   "outputs": [],
   "source": [
    "from selenium import webdriver\n",
    "from selenium.webdriver.common.keys import Keys\n",
    "from selenium.webdriver.firefox.options import Options\n",
    "import json\n",
    "import pickle as pkl\n",
    "import time\n",
    "\n",
    "import os\n",
    "\n",
    "options = Options()\n",
    "driver = webdriver.Firefox(firefox_options=options)\n",
    "\n",
    "match_id = 7900\n",
    "\n",
    "driver.get(f\"https://www.premierleague.com/match/{match_id}\")\n",
    "# Alternatives to Chrome: Firefox, phantomjs"
   ]
  },
  {
   "cell_type": "code",
   "execution_count": 216,
   "metadata": {},
   "outputs": [
    {
     "data": {
      "text/plain": [
       "{'Newcastle United': 'Newcastle',\n",
       " 'Manchester City': 'Man City',\n",
       " 'Swansea City': 'Swansea',\n",
       " 'Stoke City': 'Stoke',\n",
       " 'West Ham United': 'West Ham',\n",
       " 'Crystal Palace': 'Crystal Palace',\n",
       " 'Manchester United': 'Man Utd',\n",
       " 'Sheffield United': 'Sheff Utd',\n",
       " 'West Bromwich Albion': 'West Brom',\n",
       " 'Arsenal': 'Arsenal',\n",
       " 'Tottenham Hotspur': 'Spurs',\n",
       " 'Watford': 'Watford',\n",
       " 'Sunderland': 'Sunderland',\n",
       " 'Everton': 'Everton',\n",
       " 'Leicester City': 'Leicester',\n",
       " 'Chelsea': 'Chelsea',\n",
       " 'Aston Villa': 'Aston Villa',\n",
       " 'Queens Park Rangers': 'QPR',\n",
       " 'Norwich City': 'Norwich',\n",
       " 'Liverpool': 'Liverpool',\n",
       " 'AFC Bournemouth': 'AFC Bournemouth',\n",
       " 'Fulham': 'Fulham',\n",
       " 'Burnley': 'Burnley',\n",
       " 'Hull City': 'Hull',\n",
       " 'Middlesbrough': 'Middlesbrough',\n",
       " 'Charlton Athletic': 'Charlton',\n",
       " 'Blackburn Rovers': 'Blackburn',\n",
       " 'Reading': 'Reading',\n",
       " 'Wigan Athletic': 'Wigan',\n",
       " 'Derby County': 'Derby',\n",
       " 'Birmingham City': 'Birmingham',\n",
       " 'Bolton Wanderers': 'Bolton',\n",
       " 'Portsmouth': 'Portsmouth',\n",
       " 'Wolverhampton Wanderers': 'Wolves',\n",
       " 'Blackpool': 'Blackpool',\n",
       " 'Huddersfield Town': 'Huddersfield',\n",
       " 'Southampton': 'Southampton',\n",
       " 'Cardiff City': 'Cardiff',\n",
       " 'Brighton and Hove Albion': 'Brighton'}"
      ]
     },
     "execution_count": 216,
     "metadata": {},
     "output_type": "execute_result"
    }
   ],
   "source": [
    "with open('team_aliases_dict.pkl', 'rb') as open_file:\n",
    "    team_aliases = pkl.load(open_file)\n",
    "team_aliases"
   ]
  },
  {
   "cell_type": "code",
   "execution_count": 217,
   "metadata": {},
   "outputs": [],
   "source": [
    "hometeam_selector = '//div[@class=\"team home\"]'\n",
    "awayteam_selector = '//div[@class=\"team away\"]'\n",
    "hometeam_name = driver.find_element_by_xpath(hometeam_selector).text\n",
    "awayteam_name = driver.find_element_by_xpath(awayteam_selector).text"
   ]
  },
  {
   "cell_type": "code",
   "execution_count": 218,
   "metadata": {},
   "outputs": [
    {
     "data": {
      "text/plain": [
       "['1', '1']"
      ]
     },
     "execution_count": 218,
     "metadata": {},
     "output_type": "execute_result"
    }
   ],
   "source": [
    "score_selector = '//div[@class=\"matchScoreContainer\"]'\n",
    "driver.find_element_by_xpath(score_selector).text.split('-')\n",
    "# [hometeam_score, awayteam_score]"
   ]
  },
  {
   "cell_type": "code",
   "execution_count": 219,
   "metadata": {},
   "outputs": [],
   "source": [
    "#cause loading of stats table by clicking on tab\n",
    "stats_button_selector = '//ul[@class=\"tablist\"]/li[contains(text(), \"Stats\")]'\n",
    "stats_button = driver.find_element_by_xpath(stats_button_selector)\n",
    "stats_button.click()"
   ]
  },
  {
   "cell_type": "code",
   "execution_count": 220,
   "metadata": {},
   "outputs": [
    {
     "data": {
      "text/plain": [
       "['34.1 Possession % 65.9',\n",
       " '1 Shots on target 6',\n",
       " '7 Shots 23',\n",
       " '496 Touches 809',\n",
       " '306 Passes 611',\n",
       " '25 Tackles 27',\n",
       " '20 Clearances 19',\n",
       " '2 Corners 7',\n",
       " '1 Offsides 1',\n",
       " '1 Yellow cards 2',\n",
       " '18 Fouls conceded 12']"
      ]
     },
     "execution_count": 220,
     "metadata": {},
     "output_type": "execute_result"
    }
   ],
   "source": [
    "stats_table_selector = '//tbody[@class=\"matchCentreStatsContainer\"]/tr'\n",
    "stats_table_rows = [e.text for e in driver.find_elements_by_xpath(stats_table_selector)]\n",
    "stats_table_rows"
   ]
  },
  {
   "cell_type": "code",
   "execution_count": 221,
   "metadata": {},
   "outputs": [],
   "source": [
    "matchInfo_selector = '//div[@class=\"matchInfo\"]'\n",
    "match_date = driver.find_element_by_xpath(matchInfo_selector + '/div[@class=\"matchDate renderMatchDateContainer\"]').text\n",
    "match_timestamp = driver.find_element_by_xpath(matchInfo_selector + '/div[@class=\"matchDate renderMatchDateContainer\"]').get_attribute(\"data-kickoff\")\n",
    "#unix timestamp for kickoff also contained within the above element's tag attributes as data-kickoff=\"XXXX\"\n",
    "match_referee = driver.find_element_by_xpath(matchInfo_selector + '/div[@class=\"referee\"]').text\n",
    "match_stadium = driver.find_element_by_xpath(matchInfo_selector + '/div[@class=\"stadium\"]').text\n",
    "match_attendance = driver.find_element_by_xpath(matchInfo_selector + '/div[@class=\"attendance hide-m\"]').text"
   ]
  },
  {
   "cell_type": "code",
   "execution_count": 222,
   "metadata": {},
   "outputs": [
    {
     "data": {
      "text/plain": [
       "'1347726600000'"
      ]
     },
     "execution_count": 222,
     "metadata": {},
     "output_type": "execute_result"
    }
   ],
   "source": [
    "match_timestamp"
   ]
  },
  {
   "cell_type": "code",
   "execution_count": 223,
   "metadata": {},
   "outputs": [],
   "source": [
    "# TODO: Day of Week"
   ]
  },
  {
   "cell_type": "code",
   "execution_count": 224,
   "metadata": {},
   "outputs": [],
   "source": [
    "league_table_button_selector = '//a[@class=\" mcNavButton matchWeekTableButton\"]'\n",
    "league_table_button = driver.find_element_by_xpath(league_table_button_selector)\n",
    "league_table_button.click()"
   ]
  },
  {
   "cell_type": "code",
   "execution_count": 225,
   "metadata": {},
   "outputs": [],
   "source": [
    "hometeam_tablerow_name = team_aliases[hometeam_name]\n",
    "awayteam_tablerow_name = team_aliases[awayteam_name]\n",
    "\n",
    "hometeam_tablerow_selector = f'//tbody[@class=\"standingEntriesContainer\"]/tr[@data-filtered-table-row-name=\"{hometeam_tablerow_name}\"]'\n",
    "hometeam_tablerow = driver.find_element_by_xpath(hometeam_tablerow_selector)\n",
    "awayteam_tablerow_selector = f'//tbody[@class=\"standingEntriesContainer\"]/tr[@data-filtered-table-row-name=\"{awayteam_tablerow_name}\"]'\n",
    "awayteam_tablerow = driver.find_element_by_xpath(awayteam_tablerow_selector)"
   ]
  },
  {
   "cell_type": "code",
   "execution_count": 226,
   "metadata": {},
   "outputs": [
    {
     "data": {
      "text/plain": [
       "'17 Liverpool 4 -5 2'"
      ]
     },
     "execution_count": 226,
     "metadata": {},
     "output_type": "execute_result"
    }
   ],
   "source": [
    "awayteam_tablerow.text"
   ]
  },
  {
   "cell_type": "code",
   "execution_count": 227,
   "metadata": {},
   "outputs": [
    {
     "data": {
      "text/plain": [
       "'Liverpool'"
      ]
     },
     "execution_count": 227,
     "metadata": {},
     "output_type": "execute_result"
    }
   ],
   "source": [
    "awayteam_name"
   ]
  },
  {
   "cell_type": "code",
   "execution_count": 98,
   "metadata": {},
   "outputs": [],
   "source": [
    "for tablerow in driver.find_elements_by_xpath('//tbody[@class=\"standingEntriesContainer\"]/tr'):\n",
    "    team_alias = tablerow.find_element_by_xpath('.//td[@class=\"team\"]').text\n",
    "    team_alias_set.add(team_alias)"
   ]
  }
 ],
 "metadata": {
  "kernelspec": {
   "display_name": "Python 3",
   "language": "python",
   "name": "python3"
  },
  "language_info": {
   "codemirror_mode": {
    "name": "ipython",
    "version": 3
   },
   "file_extension": ".py",
   "mimetype": "text/x-python",
   "name": "python",
   "nbconvert_exporter": "python",
   "pygments_lexer": "ipython3",
   "version": "3.6.5"
  }
 },
 "nbformat": 4,
 "nbformat_minor": 2
}
