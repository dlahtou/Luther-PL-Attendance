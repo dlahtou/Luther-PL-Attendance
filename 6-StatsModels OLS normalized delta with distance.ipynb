{
 "cells": [
  {
   "cell_type": "code",
   "execution_count": 1,
   "metadata": {},
   "outputs": [],
   "source": [
    "import statsmodels.api as sm\n",
    "import pandas as pd\n",
    "import numpy as np\n",
    "from sklearn.preprocessing import StandardScaler\n",
    "from sklearn.preprocessing import PolynomialFeatures"
   ]
  },
  {
   "cell_type": "code",
   "execution_count": 2,
   "metadata": {},
   "outputs": [],
   "source": [
    "with open('PLmatches.csv', 'r') as open_file:\n",
    "    df = pd.read_csv(open_file, index_col=0)"
   ]
  },
  {
   "cell_type": "code",
   "execution_count": 17,
   "metadata": {},
   "outputs": [],
   "source": [
    "df2 = df[df['match_stadium'] == 'Anfield, Liverpool'].loc[:,['mean_attendance_delta_normalized', 'home_prior_leaguerank', 'away_prior_leaguerank',\n",
    "            'home_last3_goals', 'away_last3_goals', 'home_last3_poss', 'away_last3_poss', 'away_distance']]"
   ]
  },
  {
   "cell_type": "code",
   "execution_count": 18,
   "metadata": {},
   "outputs": [],
   "source": [
    "df2.dropna(how='any', inplace=True)"
   ]
  },
  {
   "cell_type": "code",
   "execution_count": 19,
   "metadata": {},
   "outputs": [],
   "source": [
    "y = df2['mean_attendance_delta_normalized']\n",
    "X = df2.iloc[:,1:]"
   ]
  },
  {
   "cell_type": "code",
   "execution_count": 20,
   "metadata": {},
   "outputs": [],
   "source": [
    "scaler = StandardScaler()\n",
    "scaler.fit(X)\n",
    "X_scaled = scaler.transform(X)"
   ]
  },
  {
   "cell_type": "code",
   "execution_count": 21,
   "metadata": {},
   "outputs": [],
   "source": [
    "model = sm.OLS(y, X_scaled)"
   ]
  },
  {
   "cell_type": "code",
   "execution_count": 22,
   "metadata": {},
   "outputs": [],
   "source": [
    "res = model.fit()"
   ]
  },
  {
   "cell_type": "code",
   "execution_count": 23,
   "metadata": {},
   "outputs": [
    {
     "data": {
      "text/html": [
       "<table class=\"simpletable\">\n",
       "<caption>OLS Regression Results</caption>\n",
       "<tr>\n",
       "  <th>Dep. Variable:</th>    <td>mean_attendance_delta_normalized</td> <th>  R-squared:         </th> <td>   0.020</td>\n",
       "</tr>\n",
       "<tr>\n",
       "  <th>Model:</th>                           <td>OLS</td>               <th>  Adj. R-squared:    </th> <td>  -0.015</td>\n",
       "</tr>\n",
       "<tr>\n",
       "  <th>Method:</th>                     <td>Least Squares</td>          <th>  F-statistic:       </th> <td>  0.5716</td>\n",
       "</tr>\n",
       "<tr>\n",
       "  <th>Date:</th>                     <td>Thu, 19 Jul 2018</td>         <th>  Prob (F-statistic):</th>  <td> 0.778</td> \n",
       "</tr>\n",
       "<tr>\n",
       "  <th>Time:</th>                         <td>16:42:59</td>             <th>  Log-Likelihood:    </th> <td> -281.74</td>\n",
       "</tr>\n",
       "<tr>\n",
       "  <th>No. Observations:</th>              <td>   200</td>              <th>  AIC:               </th> <td>   577.5</td>\n",
       "</tr>\n",
       "<tr>\n",
       "  <th>Df Residuals:</th>                  <td>   193</td>              <th>  BIC:               </th> <td>   600.6</td>\n",
       "</tr>\n",
       "<tr>\n",
       "  <th>Df Model:</th>                      <td>     7</td>              <th>                     </th>     <td> </td>   \n",
       "</tr>\n",
       "<tr>\n",
       "  <th>Covariance Type:</th>              <td>nonrobust</td>            <th>                     </th>     <td> </td>   \n",
       "</tr>\n",
       "</table>\n",
       "<table class=\"simpletable\">\n",
       "<tr>\n",
       "   <td></td>     <th>coef</th>     <th>std err</th>      <th>t</th>      <th>P>|t|</th>  <th>[0.025</th>    <th>0.975]</th>  \n",
       "</tr>\n",
       "<tr>\n",
       "  <th>x1</th> <td>   -0.0304</td> <td>    0.080</td> <td>   -0.380</td> <td> 0.704</td> <td>   -0.188</td> <td>    0.127</td>\n",
       "</tr>\n",
       "<tr>\n",
       "  <th>x2</th> <td>   -0.1222</td> <td>    0.089</td> <td>   -1.373</td> <td> 0.171</td> <td>   -0.298</td> <td>    0.053</td>\n",
       "</tr>\n",
       "<tr>\n",
       "  <th>x3</th> <td>    0.0165</td> <td>    0.079</td> <td>    0.208</td> <td> 0.836</td> <td>   -0.140</td> <td>    0.173</td>\n",
       "</tr>\n",
       "<tr>\n",
       "  <th>x4</th> <td>   -0.1122</td> <td>    0.082</td> <td>   -1.366</td> <td> 0.174</td> <td>   -0.274</td> <td>    0.050</td>\n",
       "</tr>\n",
       "<tr>\n",
       "  <th>x5</th> <td>   -0.0771</td> <td>    0.073</td> <td>   -1.057</td> <td> 0.292</td> <td>   -0.221</td> <td>    0.067</td>\n",
       "</tr>\n",
       "<tr>\n",
       "  <th>x6</th> <td>   -0.0163</td> <td>    0.082</td> <td>   -0.199</td> <td> 0.843</td> <td>   -0.178</td> <td>    0.146</td>\n",
       "</tr>\n",
       "<tr>\n",
       "  <th>x7</th> <td>    0.0369</td> <td>    0.074</td> <td>    0.502</td> <td> 0.616</td> <td>   -0.108</td> <td>    0.182</td>\n",
       "</tr>\n",
       "</table>\n",
       "<table class=\"simpletable\">\n",
       "<tr>\n",
       "  <th>Omnibus:</th>       <td>82.780</td> <th>  Durbin-Watson:     </th> <td>   1.874</td>\n",
       "</tr>\n",
       "<tr>\n",
       "  <th>Prob(Omnibus):</th> <td> 0.000</td> <th>  Jarque-Bera (JB):  </th> <td> 225.476</td>\n",
       "</tr>\n",
       "<tr>\n",
       "  <th>Skew:</th>          <td>-1.834</td> <th>  Prob(JB):          </th> <td>1.09e-49</td>\n",
       "</tr>\n",
       "<tr>\n",
       "  <th>Kurtosis:</th>      <td> 6.688</td> <th>  Cond. No.          </th> <td>    2.06</td>\n",
       "</tr>\n",
       "</table><br/><br/>Warnings:<br/>[1] Standard Errors assume that the covariance matrix of the errors is correctly specified."
      ],
      "text/plain": [
       "<class 'statsmodels.iolib.summary.Summary'>\n",
       "\"\"\"\n",
       "                                   OLS Regression Results                                   \n",
       "============================================================================================\n",
       "Dep. Variable:     mean_attendance_delta_normalized   R-squared:                       0.020\n",
       "Model:                                          OLS   Adj. R-squared:                 -0.015\n",
       "Method:                               Least Squares   F-statistic:                    0.5716\n",
       "Date:                              Thu, 19 Jul 2018   Prob (F-statistic):              0.778\n",
       "Time:                                      16:42:59   Log-Likelihood:                -281.74\n",
       "No. Observations:                               200   AIC:                             577.5\n",
       "Df Residuals:                                   193   BIC:                             600.6\n",
       "Df Model:                                         7                                         \n",
       "Covariance Type:                          nonrobust                                         \n",
       "==============================================================================\n",
       "                 coef    std err          t      P>|t|      [0.025      0.975]\n",
       "------------------------------------------------------------------------------\n",
       "x1            -0.0304      0.080     -0.380      0.704      -0.188       0.127\n",
       "x2            -0.1222      0.089     -1.373      0.171      -0.298       0.053\n",
       "x3             0.0165      0.079      0.208      0.836      -0.140       0.173\n",
       "x4            -0.1122      0.082     -1.366      0.174      -0.274       0.050\n",
       "x5            -0.0771      0.073     -1.057      0.292      -0.221       0.067\n",
       "x6            -0.0163      0.082     -0.199      0.843      -0.178       0.146\n",
       "x7             0.0369      0.074      0.502      0.616      -0.108       0.182\n",
       "==============================================================================\n",
       "Omnibus:                       82.780   Durbin-Watson:                   1.874\n",
       "Prob(Omnibus):                  0.000   Jarque-Bera (JB):              225.476\n",
       "Skew:                          -1.834   Prob(JB):                     1.09e-49\n",
       "Kurtosis:                       6.688   Cond. No.                         2.06\n",
       "==============================================================================\n",
       "\n",
       "Warnings:\n",
       "[1] Standard Errors assume that the covariance matrix of the errors is correctly specified.\n",
       "\"\"\""
      ]
     },
     "execution_count": 23,
     "metadata": {},
     "output_type": "execute_result"
    }
   ],
   "source": [
    "res.summary()"
   ]
  },
  {
   "cell_type": "code",
   "execution_count": 37,
   "metadata": {},
   "outputs": [
    {
     "name": "stdout",
     "output_type": "stream",
     "text": [
      "<class 'pandas.core.frame.DataFrame'>\n",
      "Int64Index: 4558 entries, 5567 to 22721\n",
      "Data columns (total 56 columns):\n",
      "hometeam_name                       4558 non-null object\n",
      "awayteam_name                       4558 non-null object\n",
      "home_goals                          4558 non-null int64\n",
      "away_goals                          4558 non-null int64\n",
      "match_date                          4558 non-null object\n",
      "match_timestamp                     4558 non-null int64\n",
      "match_referee                       4558 non-null object\n",
      "match_stadium                       4558 non-null object\n",
      "match_attendance                    4012 non-null float64\n",
      "home_possession                     4558 non-null float64\n",
      "away_possession                     4558 non-null float64\n",
      "home_shotsontarget                  4558 non-null int64\n",
      "away_shotsontarget                  4558 non-null int64\n",
      "home_shots                          4558 non-null int64\n",
      "away_shots                          4558 non-null int64\n",
      "home_touches                        4558 non-null int64\n",
      "away_touches                        4558 non-null int64\n",
      "home_passes                         4558 non-null int64\n",
      "away_passes                         4558 non-null int64\n",
      "home_tackles                        4558 non-null int64\n",
      "away_tackles                        4558 non-null int64\n",
      "home_clearances                     4558 non-null int64\n",
      "away_clearances                     4558 non-null int64\n",
      "home_corners                        4558 non-null int64\n",
      "away_corners                        4558 non-null int64\n",
      "home_offsides                       4558 non-null int64\n",
      "away_offsides                       4558 non-null int64\n",
      "home_yellowcards                    4558 non-null int64\n",
      "away_yellowcards                    4558 non-null int64\n",
      "home_redcards                       4558 non-null int64\n",
      "away_redcards                       4558 non-null int64\n",
      "home_fouls                          4558 non-null int64\n",
      "away_fouls                          4558 non-null int64\n",
      "home_leaguerank                     4558 non-null int64\n",
      "away_leaguerank                     4558 non-null int64\n",
      "home_matchesplayed                  4558 non-null int64\n",
      "away_matchesplayed                  4558 non-null int64\n",
      "home_goaldifferential               4558 non-null int64\n",
      "away_goaldifferential               4558 non-null int64\n",
      "home_leaguepts                      4558 non-null int64\n",
      "away_leaguepts                      4558 non-null int64\n",
      "matchweek                           4558 non-null int64\n",
      "stadium_capacity                    4558 non-null int64\n",
      "season_num                          4558 non-null int64\n",
      "home_prior_leaguerank               4539 non-null float64\n",
      "away_prior_leaguerank               4538 non-null float64\n",
      "attendance_delta                    3768 non-null float64\n",
      "mean_attendance_delta_std           3518 non-null float64\n",
      "mean_attendance_delta               3666 non-null float64\n",
      "home_prior_goals                    4539 non-null float64\n",
      "away_prior_goals                    4538 non-null float64\n",
      "mean_attendance_delta_normalized    4007 non-null float64\n",
      "home_last3_goals                    4539 non-null float64\n",
      "away_last3_goals                    4538 non-null float64\n",
      "home_last3_poss                     4539 non-null float64\n",
      "away_last3_poss                     4538 non-null float64\n",
      "dtypes: float64(15), int64(36), object(5)\n",
      "memory usage: 2.0+ MB\n"
     ]
    }
   ],
   "source": [
    "df.info()"
   ]
  },
  {
   "cell_type": "code",
   "execution_count": 38,
   "metadata": {},
   "outputs": [],
   "source": [
    "import matplotlib.pyplot as plt"
   ]
  },
  {
   "cell_type": "code",
   "execution_count": 96,
   "metadata": {},
   "outputs": [
    {
     "data": {
      "text/plain": [
       "(array([  25.,   33.,  111.,  280.,  554.,  764., 1561.,  597.,   70.,\n",
       "          12.]),\n",
       " array([-4.12997937, -3.42102328, -2.7120672 , -2.00311112, -1.29415503,\n",
       "        -0.58519895,  0.12375714,  0.83271322,  1.54166931,  2.25062539,\n",
       "         2.95958147]),\n",
       " <a list of 10 Patch objects>)"
      ]
     },
     "execution_count": 96,
     "metadata": {},
     "output_type": "execute_result"
    },
    {
     "data": {
      "image/png": "[encoded data removed]",
      "text/plain": [
       "<Figure size 432x288 with 1 Axes>"
      ]
     },
     "metadata": {},
     "output_type": "display_data"
    }
   ],
   "source": [
    "plt.hist(df['mean_attendance_delta_normalized'].dropna())"
   ]
  },
  {
   "cell_type": "code",
   "execution_count": 52,
   "metadata": {},
   "outputs": [
    {
     "data": {
      "text/plain": [
       "22715   -4.128557\n",
       "14073   -4.109259\n",
       "5903    -3.394472\n",
       "7053    -3.083302\n",
       "7823    -3.036367\n",
       "7278    -2.964804\n",
       "9908    -2.930328\n",
       "7836    -2.586080\n",
       "12482   -2.461498\n",
       "9259    -2.281279\n",
       "8070    -2.271309\n",
       "7909    -2.118618\n",
       "12478   -2.000673\n",
       "9452    -1.939157\n",
       "6637    -1.805521\n",
       "9665    -1.706928\n",
       "6507    -1.541942\n",
       "6997    -1.520388\n",
       "7245    -1.494830\n",
       "5709    -1.441337\n",
       "9535    -1.290001\n",
       "9364    -1.140870\n",
       "5776    -1.115814\n",
       "12389   -1.100129\n",
       "6872    -1.042980\n",
       "7330    -1.025350\n",
       "8005    -0.975616\n",
       "7929    -0.949440\n",
       "9853    -0.945189\n",
       "7320    -0.940644\n",
       "           ...   \n",
       "7417     0.764670\n",
       "7371     0.772261\n",
       "6828     0.775945\n",
       "7404     0.781451\n",
       "7305     0.789043\n",
       "6800     0.790267\n",
       "9545     0.797824\n",
       "7890     0.799964\n",
       "7454     0.828199\n",
       "12272    0.834632\n",
       "7434     0.840186\n",
       "7882     0.843590\n",
       "9334     0.850459\n",
       "6942     0.866653\n",
       "6722     0.867846\n",
       "9732     0.878369\n",
       "9618     0.889911\n",
       "7071     0.901861\n",
       "6766     0.912006\n",
       "12212    0.919058\n",
       "12356    0.947200\n",
       "9372     0.964500\n",
       "5587     1.007729\n",
       "8218     1.057357\n",
       "12176    1.119569\n",
       "8175     1.127159\n",
       "8198     1.135884\n",
       "6543     1.138857\n",
       "6653     1.273862\n",
       "9232     1.324167\n",
       "Name: mean_attendance_delta_normalized, Length: 200, dtype: float64"
      ]
     },
     "execution_count": 52,
     "metadata": {},
     "output_type": "execute_result"
    }
   ],
   "source": [
    "df[df['match_stadium'] == 'Anfield, Liverpool']['mean_attendance_delta_normalized'].dropna().sort_values()"
   ]
  },
  {
   "cell_type": "code",
   "execution_count": null,
   "metadata": {},
   "outputs": [],
   "source": []
  }
 ],
 "metadata": {
  "kernelspec": {
   "display_name": "Python 3",
   "language": "python",
   "name": "python3"
  },
  "language_info": {
   "codemirror_mode": {
    "name": "ipython",
    "version": 3
   },
   "file_extension": ".py",
   "mimetype": "text/x-python",
   "name": "python",
   "nbconvert_exporter": "python",
   "pygments_lexer": "ipython3",
   "version": "3.6.5"
  }
 },
 "nbformat": 4,
 "nbformat_minor": 2
}
